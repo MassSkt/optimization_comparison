{
  "nbformat": 4,
  "nbformat_minor": 0,
  "metadata": {
    "colab": {
      "name": "optimize_methods.ipynb",
      "version": "0.3.2",
      "provenance": []
    },
    "kernelspec": {
      "name": "python3",
      "display_name": "Python 3"
    }
  },
  "cells": [
    {
      "metadata": {
        "id": "vdfXC8tj5I_5",
        "colab_type": "code",
        "outputId": "7eace1b3-50fe-4085-c382-4c09f518c5c6",
        "colab": {
          "base_uri": "https://localhost:8080/",
          "height": 361
        }
      },
      "cell_type": "code",
      "source": [
        "!pip install pulp\n",
        "!pip install ortools"
      ],
      "execution_count": 1,
      "outputs": [
        {
          "output_type": "stream",
          "text": [
            "Collecting pulp\n",
            "\u001b[?25l  Downloading https://files.pythonhosted.org/packages/91/cd/8ed5d788973f6632cc44d0e95c486646c090c427c90667c901b75e544bc1/PuLP-1.6.9.zip (13.6MB)\n",
            "\u001b[K    100% |████████████████████████████████| 13.6MB 2.5MB/s \n",
            "\u001b[?25hRequirement already satisfied: pyparsing>=2.0.1 in /usr/local/lib/python3.6/dist-packages (from pulp) (2.4.0)\n",
            "Building wheels for collected packages: pulp\n",
            "  Building wheel for pulp (setup.py) ... \u001b[?25ldone\n",
            "\u001b[?25h  Stored in directory: /root/.cache/pip/wheels/3b/f1/f5/f6d0aac56dd154c2593d3fa5e901aa9bc32a51bd8594b4bf8e\n",
            "Successfully built pulp\n",
            "Installing collected packages: pulp\n",
            "Successfully installed pulp-1.6.9\n",
            "Collecting ortools\n",
            "\u001b[?25l  Downloading https://files.pythonhosted.org/packages/02/eb/8fd2c87d45590bb7d1ad9e3b495b2e9a23d9cdca7dc8fa33fed4b9114e0e/ortools-7.0.6546-cp36-cp36m-manylinux1_x86_64.whl (25.6MB)\n",
            "\u001b[K    100% |████████████████████████████████| 25.6MB 762kB/s \n",
            "\u001b[?25hRequirement already satisfied: protobuf>=3.6.1 in /usr/local/lib/python3.6/dist-packages (from ortools) (3.7.1)\n",
            "Requirement already satisfied: six>=1.10 in /usr/local/lib/python3.6/dist-packages (from ortools) (1.11.0)\n",
            "Requirement already satisfied: setuptools in /usr/local/lib/python3.6/dist-packages (from protobuf>=3.6.1->ortools) (40.9.0)\n",
            "Installing collected packages: ortools\n",
            "Successfully installed ortools-7.0.6546\n"
          ],
          "name": "stdout"
        }
      ]
    },
    {
      "metadata": {
        "id": "71_Hvoxsn2vl",
        "colab_type": "code",
        "colab": {}
      },
      "cell_type": "code",
      "source": [
        "import math\n",
        "import matplotlib.pyplot as plt\n",
        "import numpy as np\n"
      ],
      "execution_count": 0,
      "outputs": []
    },
    {
      "metadata": {
        "id": "gt5A09bLPgXy",
        "colab_type": "text"
      },
      "cell_type": "markdown",
      "source": [
        "# Linear programming problem"
      ]
    },
    {
      "metadata": {
        "id": "HR7bzbxme9aX",
        "colab_type": "text"
      },
      "cell_type": "markdown",
      "source": [
        "-problem\n",
        "\n",
        "- target function to optimize\n",
        "100x + 100 y\n",
        "\n",
        "- constraints\n",
        " - x + 2y <=16\n",
        " - 3x + y <= 18\n",
        " - x >0\n",
        " - y>0"
      ]
    },
    {
      "metadata": {
        "id": "LeJOmkSw4GFh",
        "colab_type": "text"
      },
      "cell_type": "markdown",
      "source": [
        "PuLP"
      ]
    },
    {
      "metadata": {
        "id": "mmLxEAI2enQ4",
        "colab_type": "code",
        "colab": {}
      },
      "cell_type": "code",
      "source": [
        "import pulp"
      ],
      "execution_count": 0,
      "outputs": []
    },
    {
      "metadata": {
        "id": "dYl6j13AwiMZ",
        "colab_type": "code",
        "outputId": "f1a15acb-99d1-4e87-f85e-cce25e4bd920",
        "colab": {
          "base_uri": "https://localhost:8080/",
          "height": 35
        }
      },
      "cell_type": "code",
      "source": [
        "# Problem 1\n",
        "\n",
        "# Numerical model\n",
        "m = pulp.LpProblem(sense=pulp.LpMaximize) \n",
        "\n",
        "# valiables to optimize\n",
        "x = pulp.LpVariable('x', lowBound=0) \n",
        "y = pulp.LpVariable('y', lowBound=0) \n",
        "\n",
        "# Objective function to optimize ( maximize)\n",
        "m += 100 * x + 100 * y\n",
        "\n",
        "#  Constraints\n",
        "m += x + 2 * y <= 16 \n",
        "m += 3 * x + y <= 18 \n",
        "\n",
        "# Solve\n",
        "m.solve()\n",
        "print(pulp.value(x), pulp.value(y)) # 4, 6\n",
        "\n"
      ],
      "execution_count": 6,
      "outputs": [
        {
          "output_type": "stream",
          "text": [
            "4.0 6.0\n"
          ],
          "name": "stdout"
        }
      ]
    },
    {
      "metadata": {
        "id": "Scbd8D9I5Rlp",
        "colab_type": "code",
        "outputId": "a5732f04-0676-4349-946a-c19ec8d4046f",
        "colab": {
          "base_uri": "https://localhost:8080/",
          "height": 269
        }
      },
      "cell_type": "code",
      "source": [
        "## problem2 supply optimization \n",
        "\n",
        "from itertools import product\n",
        "\n",
        "\n",
        "# define data\n",
        "np.random.seed(1)\n",
        "nw, nf = 3, 4\n",
        "\n",
        "pr = list(product(range(nw),range(nf)))\n",
        "supply = np.random.randint(30, 50, nw)\n",
        "demand = np.random.randint(20, 40, nf)\n",
        "cost = np.random.randint(10, 20, (nw,nf))\n",
        "\n",
        "print('cost')\n",
        "print(cost)\n",
        "\n",
        "print('supply lower limit')\n",
        "print(supply)\n",
        "\n",
        "print('demand lower limit')\n",
        "print(demand)\n",
        "\n",
        "# Modeling\n",
        "m1 = pulp.LpProblem()\n",
        "\n",
        "# variables ()\n",
        "v1 = {(i,j):pulp.LpVariable('v%d_%d'%(i,j), lowBound=0) for i,j in pr}\n",
        "\n",
        "# Object function\n",
        "m1 += pulp.lpSum(cost[i][j] * v1[i,j] for i,j in pr)\n",
        "\n",
        "# Constraints\n",
        "for i in range(nw):\n",
        "    m1 += pulp.lpSum(v1[i,j] for j in range(nf)) <= supply[i]\n",
        "for j in range(nf):\n",
        "    m1 += pulp.lpSum(v1[i,j] for i in range(nw)) >= demand[j]\n",
        "\n",
        "# solve    \n",
        "m1.solve()\n",
        "{k:pulp.value(x) for k,x in v1.items() if pulp.value(x) > 0}\n"
      ],
      "execution_count": 9,
      "outputs": [
        {
          "output_type": "stream",
          "text": [
            "cost\n",
            "[[10 10 11 17]\n",
            " [16 19 12 14]\n",
            " [15 12 14 12]]\n",
            "supply lower limit\n",
            "[35 41 42]\n",
            "demand lower limit\n",
            "[28 29 31 25]\n"
          ],
          "name": "stdout"
        },
        {
          "output_type": "execute_result",
          "data": {
            "text/plain": [
              "{(0, 0): 28.0,\n",
              " (0, 1): 7.0,\n",
              " (1, 2): 31.0,\n",
              " (1, 3): 5.0,\n",
              " (2, 1): 22.0,\n",
              " (2, 3): 20.0}"
            ]
          },
          "metadata": {
            "tags": []
          },
          "execution_count": 9
        }
      ]
    },
    {
      "metadata": {
        "id": "1NzSHgfdPndq",
        "colab_type": "text"
      },
      "cell_type": "markdown",
      "source": [
        "Scipy"
      ]
    },
    {
      "metadata": {
        "id": "_spuiR5MQvOJ",
        "colab_type": "code",
        "outputId": "8b9f6451-a27b-42a3-cc53-7df1124a60d0",
        "colab": {
          "base_uri": "https://localhost:8080/",
          "height": 143
        }
      },
      "cell_type": "code",
      "source": [
        "from scipy.optimize import fmin,minimize\n",
        "\n",
        "# Problem1\n",
        "\n",
        "\n",
        "# Objective\n",
        "def func(X):\n",
        "    return -(100*X[0]+100*X[1])\n",
        "\n",
        "# constraint function\n",
        "def cons1(X):\n",
        "    return 16-(X[0] + 2*X[1])\n",
        "def cons2(X):\n",
        "    return 18-(3*X[0] + X[1])\n",
        "def cons3(X):\n",
        "    return np.abs(X)\n",
        "\n",
        "# set constraits (negative constraint)\n",
        "cons = (\n",
        "    {'type': 'ineq', 'fun': cons1},\n",
        "    {'type': 'ineq', 'fun': cons2},\n",
        "    {'type': 'ineq', 'fun': cons3},\n",
        ")\n",
        "X = [1.0,1.0] #init\n",
        "\n",
        "#result = minimize(func, x0=X, constraints=cons, method=\"SLSQP\")\n",
        "result = minimize(func, x0=X, constraints=cons, method=\"COBYLA\")\n",
        "\n",
        "print(result)"
      ],
      "execution_count": 19,
      "outputs": [
        {
          "output_type": "stream",
          "text": [
            "     fun: -1000.0\n",
            "   maxcv: 3.552713678800501e-15\n",
            " message: 'Optimization terminated successfully.'\n",
            "    nfev: 18\n",
            "  status: 1\n",
            " success: True\n",
            "       x: array([4., 6.])\n"
          ],
          "name": "stdout"
        }
      ]
    },
    {
      "metadata": {
        "id": "Fw2ieDwBg54_",
        "colab_type": "text"
      },
      "cell_type": "markdown",
      "source": [
        "ortools"
      ]
    },
    {
      "metadata": {
        "id": "4Kh8iT7LUAY7",
        "colab_type": "code",
        "colab": {
          "base_uri": "https://localhost:8080/",
          "height": 125
        },
        "outputId": "7b3245f0-b34e-4a6a-adb8-56ba73ddc303"
      },
      "cell_type": "code",
      "source": [
        "from __future__ import print_function\n",
        "from ortools.linear_solver import pywraplp\n",
        "\n",
        "solver = pywraplp.Solver('SolveIntegerProblem',\n",
        "                         pywraplp.Solver.CBC_MIXED_INTEGER_PROGRAMMING)\n",
        "\n",
        "\n",
        "# Problem1\n",
        "\n",
        "# set variables\n",
        "# x and y are integer non-negative variables.\n",
        "x = solver.IntVar(0.0, solver.infinity(), 'x')\n",
        "y = solver.IntVar(0.0, solver.infinity(), 'y')\n",
        "\n",
        "\n",
        "# constraints\n",
        "constraint1 = solver.Constraint(-solver.infinity(), 16)\n",
        "constraint1.SetCoefficient(x, 1)\n",
        "constraint1.SetCoefficient(y, 2)\n",
        "\n",
        "constraint2 = solver.Constraint(-solver.infinity(), 18)\n",
        "constraint2.SetCoefficient(x, 3)\n",
        "constraint2.SetCoefficient(y, 1)\n",
        "\n",
        "# Objective  .\n",
        "objective = solver.Objective()\n",
        "objective.SetCoefficient(x, 100)\n",
        "objective.SetCoefficient(y, 100)\n",
        "objective.SetMaximization()\n",
        "\n",
        "\"\"\"Solve the problem and print the solution.\"\"\"\n",
        "result_status = solver.Solve()\n",
        "# The problem has an optimal solution.\n",
        "assert result_status == pywraplp.Solver.OPTIMAL\n",
        "\n",
        "# The solution looks legit (when using solvers other than\n",
        "# GLOP_LINEAR_PROGRAMMING, verifying the solution is highly recommended!).\n",
        "assert solver.VerifySolution(1e-7, True)\n",
        "\n",
        "print('Number of variables =', solver.NumVariables())\n",
        "print('Number of constraints =', solver.NumConstraints())\n",
        "\n",
        "# The objective value of the solution.\n",
        "print('Optimal objective value = %d' % solver.Objective().Value())\n",
        "print()\n",
        "# The value of each variable in the solution.\n",
        "variable_list = [x, y]\n",
        "\n",
        "for variable in variable_list:\n",
        "  print('%s = %d' % (variable.name(), variable.solution_value()))\n",
        "\n"
      ],
      "execution_count": 20,
      "outputs": [
        {
          "output_type": "stream",
          "text": [
            "Number of variables = 2\n",
            "Number of constraints = 2\n",
            "Optimal objective value = 1000\n",
            "\n",
            "x = 4\n",
            "y = 6\n"
          ],
          "name": "stdout"
        }
      ]
    },
    {
      "metadata": {
        "id": "9krePSZeUI7j",
        "colab_type": "text"
      },
      "cell_type": "markdown",
      "source": [
        "# Non linear optimization"
      ]
    },
    {
      "metadata": {
        "id": "Utp9GBf2DfRh",
        "colab_type": "code",
        "outputId": "6204fb66-c0e0-47af-b309-f797678555a1",
        "colab": {
          "base_uri": "https://localhost:8080/",
          "height": 179
        }
      },
      "cell_type": "code",
      "source": [
        "\n",
        "# Non linear\n",
        "\n",
        "# Objective\n",
        "def func(x):\n",
        "    return x ** 2\n",
        "\n",
        "# constraint function\n",
        "def cons(x):\n",
        "    return -(x + 1)\n",
        "\n",
        "# set constraits (negative constraint)\n",
        "cons = (\n",
        "    {'type': 'ineq', 'fun': cons}\n",
        ")\n",
        "x = -10 #init\n",
        "\n",
        "result = minimize(func, x0=x, constraints=cons, method=\"SLSQP\")\n",
        "print(result)"
      ],
      "execution_count": 0,
      "outputs": [
        {
          "output_type": "stream",
          "text": [
            "     fun: 0.9999999999996732\n",
            "     jac: array([-1.99999999])\n",
            " message: 'Optimization terminated successfully.'\n",
            "    nfev: 6\n",
            "     nit: 2\n",
            "    njev: 2\n",
            "  status: 0\n",
            " success: True\n",
            "       x: array([-1.])\n"
          ],
          "name": "stdout"
        }
      ]
    },
    {
      "metadata": {
        "id": "gh6GBdgWDuaK",
        "colab_type": "code",
        "outputId": "42123860-3e8e-40f6-b3d9-99b0015a89ee",
        "colab": {
          "base_uri": "https://localhost:8080/",
          "height": 35
        }
      },
      "cell_type": "code",
      "source": [
        "list(zip(range(nw),range(nf)))\n"
      ],
      "execution_count": 0,
      "outputs": [
        {
          "output_type": "execute_result",
          "data": {
            "text/plain": [
              "[(0, 0), (1, 1), (2, 2)]"
            ]
          },
          "metadata": {
            "tags": []
          },
          "execution_count": 19
        }
      ]
    },
    {
      "metadata": {
        "id": "ETZluFjiFsox",
        "colab_type": "code",
        "colab": {}
      },
      "cell_type": "code",
      "source": [
        ""
      ],
      "execution_count": 0,
      "outputs": []
    }
  ]
}